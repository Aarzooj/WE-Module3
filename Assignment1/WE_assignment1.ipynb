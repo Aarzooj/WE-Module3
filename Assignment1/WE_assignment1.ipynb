{
  "nbformat": 4,
  "nbformat_minor": 0,
  "metadata": {
    "colab": {
      "provenance": []
    },
    "kernelspec": {
      "name": "python3",
      "display_name": "Python 3"
    },
    "language_info": {
      "name": "python"
    }
  },
  "cells": [
    {
      "cell_type": "markdown",
      "source": [
        "##Kaprekar Sequence\n",
        "\n",
        "5778=>2997,7173,6354,3087,8352,6174\n"
      ],
      "metadata": {
        "id": "hh90UpMNTdL5"
      }
    },
    {
      "cell_type": "code",
      "source": [
        "def num2digits(n: int) -> list[int]:\n",
        "    '''returns the digits of the integer argument\n",
        "    as a list. Example 156 => [1, 5, 6]'''\n",
        "    return [int(ch) for ch in str(n)]"
      ],
      "metadata": {
        "id": "P6zILWmXT1nq"
      },
      "execution_count": 2,
      "outputs": []
    },
    {
      "cell_type": "code",
      "source": [
        "def digits2num(digits: list[int]) -> int:\n",
        "    return int(''.join(str(digit) for digit in digits))\n",
        "\n",
        "#def digits2num(digits: list[int]) -> int:\n",
        "#    if len(digits) == 1:\n",
        "#        return digits[-1]\n",
        "#    else:\n",
        "#        return 10 * digits2num(digits[:-1]) + digits[-1]"
      ],
      "metadata": {
        "id": "e0-9634kT2qA"
      },
      "execution_count": 3,
      "outputs": []
    },
    {
      "cell_type": "code",
      "execution_count": 4,
      "metadata": {
        "id": "Xb4eZC_7TUnq"
      },
      "outputs": [],
      "source": [
        "def largest(n: int) -> int:\n",
        "    return digits2num(sorted(num2digits(n), reverse=True))\n",
        "\n",
        "def smallest(n: int) -> int:\n",
        "    return digits2num(sorted(num2digits(n)))\n",
        "\n",
        "def next_kaprekar(n: int) -> int:\n",
        "    return largest(n) - smallest(n)\n",
        "\n",
        "def kaprekar_seq(n: int) -> list[int]:\n",
        "    seq = [n]\n",
        "    n = next_kaprekar(n)\n",
        "    while n != seq[-1]:\n",
        "        seq.append(n)\n",
        "        n = next_kaprekar(n)\n",
        "    return seq"
      ]
    },
    {
      "cell_type": "code",
      "source": [
        "kaprekar_seq(5778)"
      ],
      "metadata": {
        "colab": {
          "base_uri": "https://localhost:8080/"
        },
        "id": "VXAXj6pBTx_n",
        "outputId": "fb59b32b-3cc0-4c80-ca2b-46e5f0dd46ae"
      },
      "execution_count": 5,
      "outputs": [
        {
          "output_type": "execute_result",
          "data": {
            "text/plain": [
              "[5778, 2997, 7173, 6354, 3087, 8352, 6174]"
            ]
          },
          "metadata": {},
          "execution_count": 5
        }
      ]
    },
    {
      "cell_type": "code",
      "source": [
        "kaprekar_seq(3524)"
      ],
      "metadata": {
        "colab": {
          "base_uri": "https://localhost:8080/"
        },
        "id": "ZuDX6YSUT-zb",
        "outputId": "f254c637-6358-41f0-b137-9a4d019e4136"
      },
      "execution_count": 6,
      "outputs": [
        {
          "output_type": "execute_result",
          "data": {
            "text/plain": [
              "[3524, 3087, 8352, 6174]"
            ]
          },
          "metadata": {},
          "execution_count": 6
        }
      ]
    }
  ]
}